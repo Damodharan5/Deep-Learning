{
 "cells": [
  {
   "cell_type": "markdown",
   "metadata": {},
   "source": [
    "## Retraining the inception network in docker toolbox to classify thanos and darkseid"
   ]
  },
  {
   "cell_type": "code",
   "metadata": {},
   "source": [
    "# Steps to follow:\n",
    "# 1.) Install docker toolbox\n",
    "# 2.) Install Tensorflow image\n",
    "# 3.) Download dataset\n",
    "# 4.) Link TF image to the dataset\n",
    "# 5.) DL Training Script\n",
    "# 6.) Retrain Model\n",
    "# 7.) classify\n",
    "# ------------------------------------------------------------------------------------------------------------------------------\n",
    "# Important commands in docker toolbox\n",
    "# -> docker --version is to find the docker's version.\n",
    "# -> clear - clears the screen. \n",
    "# -> docker image ls - list all the images in the system\n",
    "# -> docker rmi - delete the docker based on Image id(docker image ls).\n",
    "# -> docker run -it gcr.io/\"complete website link by searching what you need in gcr.io\" will download it\n",
    "# -> docker run -it -v $HOME/tf_files/comics gcr.io/\"the link u got from the gcr.io website\" will start the image\n",
    "# -> clear will clear the scree.\n",
    "# -> \"any problem use virtual box to open the docker default image and check\"\n",
    "# -> the docker default loc is $HOME/.docker\n",
    "# ------------------------------------------------------------------------------------------------------------------------------\n",
    "# Installing and running the TF image\n",
    "# -> run this command in docker - docker run -it gcr.io/tensorflow/tensorflow/1.5.0:devel - installing the image. -it:          #    interactive\n",
    "# -> gcr - Google Container Registry - Place for docker container image\n",
    "# ------------------------------------------------------------------------------------------------------------------------------\n",
    "# Download Dataset\n",
    "# -> Add Fatkun Batch download image chrome extension\n",
    "# -> Search image in google chrome and use the extension to download the batch of images from google. I downloaded \"Thanos\" and #      \"Darkseid\"\n",
    "# ------------------------------------------------------------------------------------------------------------------------------\n",
    "# Link TF image to the dataset\n",
    "# -> run this command in docker - docker run -it -v $HOME/tf_tfiles/comics/gcr.io/tensorflow/tensorflow/1.5.0:devel -v: mount    #    the    image in that location.\n",
    "# ------------------------------------------------------------------------------------------------------------------------------\n",
    "# DL Training Script and Retrain the model\n",
    "# -> mkdir tensorflow\n",
    "# -> cd tensorflow\n",
    "# -> git clone https://github.com/tensorflow/tensorflow\n",
    "# -> python /tensorflow/tensorflow/examples/image_retraining/retrain.py \\\n",
    "#     --bottleneck_dir=$HOME/tf_files/bottlenecks \\\n",
    "#     --how_many_training_steps 500 \\\n",
    "#     --model_dir=$HOME/tf_files/inception \\\n",
    "#     --output_graph=$HOME/tf_files/retrained_graph.pb \\\n",
    "#     --output_labels=$HOME/tf_files/retrained_labels.txt\n",
    "#     --image_dir $HOME/tf_files/comics\n",
    "# ------------------------------------------------------------------------------------------------------------------------------\n",
    "# classify\n",
    "# -> check below\n",
    "# ------------------------------------------------------------------------------------------------------------------------------"
   ]
  },
  {
   "cell_type": "code",
   "execution_count": 1,
   "metadata": {},
   "outputs": [],
   "source": [
    "import tensorflow as tf, sys"
   ]
  },
  {
   "cell_type": "code",
   "execution_count": 6,
   "metadata": {},
   "outputs": [],
   "source": [
    "img_path = 'C:/Users/abcd/tf_files/comics/thanos.jpg'\n",
    "img_data = tf.gfile.FastGFile(img_path,'rb').read()"
   ]
  },
  {
   "cell_type": "code",
   "execution_count": 8,
   "metadata": {},
   "outputs": [],
   "source": [
    "label_lines = [line.rstrip() for line in tf.gfile.FastGFile('C:/Users/abcd/tf_files/retrained_labels.txt')]"
   ]
  },
  {
   "cell_type": "code",
   "execution_count": 10,
   "metadata": {},
   "outputs": [],
   "source": [
    "with tf.gfile.FastGFile('C:/Users/abcd/tf_files/retrained_graph.pb','rb') as f:\n",
    "    graph_def = tf.GraphDef()\n",
    "    graph_def.ParseFromString(f.read())\n",
    "    _ = tf.import_graph_def(graph_def,name='')"
   ]
  },
  {
   "cell_type": "code",
   "execution_count": 17,
   "metadata": {},
   "outputs": [],
   "source": [
    "with tf.Session() as sess:\n",
    "    softmax_tensor = sess.graph.get_tensor_by_name('final_result:0')\n",
    "    predictions = sess.run(softmax_tensor,{'DecodeJpeg/contents:0':img_data})"
   ]
  },
  {
   "cell_type": "code",
   "execution_count": 33,
   "metadata": {},
   "outputs": [
    {
     "name": "stdout",
     "output_type": "stream",
     "text": [
      "The image is thanos with a Score of 0.95003\n"
     ]
    }
   ],
   "source": [
    "print(\"The image is %s with a Score of %.5f\"%(label_lines[predictions[0].argmax()],predictions[0][predictions[0].argmax()]))"
   ]
  },
  {
   "cell_type": "code",
   "execution_count": null,
   "metadata": {},
   "outputs": [],
   "source": []
  },
  {
   "cell_type": "code",
   "execution_count": null,
   "metadata": {},
   "outputs": [],
   "source": []
  }
 ],
 "metadata": {
  "kernelspec": {
   "display_name": "Python 3",
   "language": "python",
   "name": "python3"
  },
  "language_info": {
   "codemirror_mode": {
    "name": "ipython",
    "version": 3
   },
   "file_extension": ".py",
   "mimetype": "text/x-python",
   "name": "python",
   "nbconvert_exporter": "python",
   "pygments_lexer": "ipython3",
   "version": "3.6.3"
  }
 },
 "nbformat": 4,
 "nbformat_minor": 2
}
